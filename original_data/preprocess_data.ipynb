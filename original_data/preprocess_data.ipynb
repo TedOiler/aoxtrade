{
 "cells": [
  {
   "cell_type": "markdown",
   "id": "fefd30c9",
   "metadata": {},
   "source": [
    "### Imports"
   ]
  },
  {
   "cell_type": "code",
   "execution_count": null,
   "id": "bfbccab9",
   "metadata": {},
   "outputs": [],
   "source": [
    "import numpy as np\n",
    "import pandas as pd\n",
    "from matplotlib import pyplot as plt\n",
    "import seaborn as sns\n",
    "plt.style.use('seaborn-v0_8-colorblind')"
   ]
  },
  {
   "cell_type": "markdown",
   "id": "3b89e272",
   "metadata": {},
   "source": [
    "### Helpers"
   ]
  },
  {
   "cell_type": "code",
   "execution_count": null,
   "id": "f745ffb8",
   "metadata": {},
   "outputs": [],
   "source": [
    "def upscale_datetimes(\n",
    "    df: pd.DataFrame,\n",
    "    *,\n",
    "    date_col: str,\n",
    "    date_format: str | None = None,\n",
    "    drop_cols: list[str] | None = None,\n",
    "    start: str | pd.Timestamp = \"2022-01-01 00:00\",\n",
    "    end: str | pd.Timestamp = \"2024-06-12 23:00\",\n",
    ") -> pd.DataFrame:\n",
    "    \"\"\"\n",
    "    Parse df[date_col] to datetime (using date_format if given), rename to 'Date (UTC)',\n",
    "    align to an hourly index from start..end, and ffill/bfill gaps.\n",
    "    Returns a DataFrame indexed by a DatetimeIndex named 'Date (UTC)'.\n",
    "    \"\"\"\n",
    "    df = df.copy()\n",
    "\n",
    "    # 1) Parse the date column\n",
    "    if date_format:\n",
    "        dt = pd.to_datetime(df[date_col], format=date_format, errors=\"coerce\")\n",
    "    else:\n",
    "        dt = pd.to_datetime(df[date_col], errors=\"coerce\", utc=False)\n",
    "\n",
    "    # 2) Rename to 'Date (UTC)' and set index\n",
    "    df = df.drop(columns=[date_col]).assign(**{\"Date (UTC)\": dt}).set_index(\"Date (UTC)\")\n",
    "\n",
    "    # 3) Optionally drop columns\n",
    "    if drop_cols:\n",
    "        # keep only columns that exist\n",
    "        drop_cols = [c for c in drop_cols if c in df.columns]\n",
    "        if drop_cols:\n",
    "            df = df.drop(columns=drop_cols)\n",
    "\n",
    "    # 4) Build the hourly scaffold and align\n",
    "    hourly_index = pd.date_range(start=pd.Timestamp(start), end=pd.Timestamp(end), freq=\"h\", name=\"Date (UTC)\")\n",
    "    # Reindex then ffill/bfill to upsample daily/monthly/irregular to hourly\n",
    "    df = df.sort_index().reindex(hourly_index).ffill().bfill()\n",
    "\n",
    "    return df\n",
    "\n",
    "def plot_group(cols, color, title):\n",
    "    if not cols:\n",
    "        return\n",
    "    n = len(cols)\n",
    "    ncols = 3 if n >= 7 else 2\n",
    "    nrows = int(np.ceil(n / ncols))\n",
    "    fig, axes = plt.subplots(nrows, ncols, figsize=(5*ncols, 3.8*nrows))\n",
    "    axes = np.array(axes).reshape(-1)  # flatten even if single row\n",
    "    for ax, col in zip(axes, cols):\n",
    "        sns.histplot(df[col].dropna(), kde=True, stat=\"density\", bins=\"auto\", color=color, ax=ax)\n",
    "        ax.set_title(col, fontsize=10)\n",
    "        ax.set_xlabel(\"\")\n",
    "        ax.set_ylabel(\"Density\")\n",
    "    # hide any unused axes\n",
    "    for ax in axes[len(cols):]:\n",
    "        ax.set_visible(False)\n",
    "    fig.suptitle(title, fontsize=14, y=1.02)\n",
    "    plt.tight_layout()\n",
    "    plt.show()\n",
    "\n",
    "def plot_group_timeseries(\n",
    "    df,\n",
    "    cols,\n",
    "    color=\"C0\",\n",
    "    title=\"\",\n",
    "    resample=\"D\",\n",
    "    date_candidates=(\"Date (UTC)\", \"date (utc)\", \"date_utc\", \"date\", \"datetime\", \"timestamp\"),\n",
    "):\n",
    "    \n",
    "    if not cols:\n",
    "        return\n",
    "\n",
    "    df_work = df.copy()\n",
    "\n",
    "    if isinstance(df_work.index, pd.DatetimeIndex):\n",
    "        dt_name = df_work.index.name or \"Date (UTC)\"\n",
    "    else:\n",
    "        norm = {c: c.lower().replace(\" \", \"_\") for c in df_work.columns}\n",
    "        rev = {v: k for k, v in norm.items()}\n",
    "        found = None\n",
    "        for cand in date_candidates:\n",
    "            key = cand.lower().replace(\" \", \"_\")\n",
    "            if key in rev:\n",
    "                found = rev[key]\n",
    "                break\n",
    "        if found is None:\n",
    "            dt_cols = [c for c in df_work.columns if pd.api.types.is_datetime64_any_dtype(df_work[c])]\n",
    "            if dt_cols:\n",
    "                found = dt_cols[0]\n",
    "            else:\n",
    "                raise KeyError(\"Could not find a datetime column or DatetimeIndex in the provided DataFrame.\")\n",
    "\n",
    "        dt_name = found\n",
    "        df_work[dt_name] = pd.to_datetime(df_work[dt_name], errors=\"coerce\")\n",
    "        df_work = df_work.set_index(dt_name)\n",
    "\n",
    "    cols_present = [c for c in cols if c in df_work.columns]\n",
    "    if not cols_present:\n",
    "        print(\"No requested columns found in DataFrame.\")\n",
    "        return\n",
    "    if len(cols_present) < len(cols):\n",
    "        missing = sorted(set(cols) - set(cols_present))\n",
    "        print(f\"Skipping missing columns: {missing}\")\n",
    "\n",
    "    df_plot = df_work[cols_present].sort_index()\n",
    "\n",
    "    if resample:\n",
    "        df_plot = df_plot.resample(resample).mean(numeric_only=True)\n",
    "\n",
    "    df_plot = df_plot.reset_index().rename(columns={\"index\": dt_name})\n",
    "\n",
    "    n = len(cols_present)\n",
    "    ncols = 3 if n >= 7 else 2\n",
    "    nrows = int(np.ceil(n / ncols))\n",
    "    fig, axes = plt.subplots(nrows, ncols, figsize=(6 * ncols, 3.5 * nrows), sharex=True)\n",
    "    axes = np.array(axes).reshape(-1)\n",
    "\n",
    "    for ax, col in zip(axes, cols_present):\n",
    "        sns.lineplot(data=df_plot, x=dt_name, y=col, ax=ax, color=color)\n",
    "        ax.set_title(col, fontsize=10)\n",
    "        ax.set_xlabel(\"\")\n",
    "        ax.grid(True, alpha=0.3)\n",
    "\n",
    "    for ax in axes[len(cols_present):]:\n",
    "        ax.set_visible(False)\n",
    "\n",
    "    fig.suptitle(title, fontsize=14, y=1.02)\n",
    "    plt.tight_layout()\n",
    "    plt.show()"
   ]
  },
  {
   "cell_type": "markdown",
   "id": "424826a4",
   "metadata": {},
   "source": [
    "### Load"
   ]
  },
  {
   "cell_type": "code",
   "execution_count": null,
   "id": "b21a8892",
   "metadata": {},
   "outputs": [],
   "source": [
    "xls = pd.ExcelFile(\"Case Study Data .xlsx\")\n",
    "\n",
    "df_genmix = upscale_datetimes(\n",
    "    pd.read_excel(xls, sheet_name=\"Generation Mix\"),\n",
    "    date_col=\"Date (UTC)\")\n",
    "\n",
    "df_prices = upscale_datetimes(\n",
    "    pd.read_excel(xls, sheet_name=\"Day-ahead Prices\"),\n",
    "    date_col=\"Date (UTC)\")\n",
    "\n",
    "df_load = upscale_datetimes(\n",
    "    pd.read_excel(xls, sheet_name=\"Load\"),\n",
    "    date_col=\"Date (UTC)\")\n",
    "\n",
    "df_tb = upscale_datetimes(\n",
    "    pd.read_excel(xls, sheet_name=\"Import_Export\"),\n",
    "    date_col=\"Date (UTC)\")\n",
    "\n",
    "df_co2_filled = upscale_datetimes(\n",
    "    pd.read_excel(xls, sheet_name=\"CO2 Prices\"),\n",
    "    date_col=\"Date\",\n",
    "    date_format=\"%d.%m.%Y\")\n",
    "\n",
    "df_gas_filled = upscale_datetimes(\n",
    "    pd.read_excel(xls, sheet_name=\"Natural Gas Prices\"),\n",
    "    date_col=\"Date\",\n",
    "    date_format=\"%m/%d/%Y\",\n",
    "    drop_cols=[\"Price PLN/MWh\", \"Date\"])\n",
    "\n",
    "df_coal_filled = upscale_datetimes(\n",
    "    pd.read_excel(xls, sheet_name=\"Coal Prices\"),\n",
    "    date_col=\"Date\",\n",
    "    date_format=\"%Y-%m-%d\")\n",
    "\n",
    "df_capacities_filled = upscale_datetimes(\n",
    "    pd.read_excel(xls, sheet_name=\"Installed Solar Wind Capacity\"),\n",
    "    date_col=\"Month\",\n",
    "    date_format=\"%Y-%m-%d\")"
   ]
  },
  {
   "cell_type": "markdown",
   "id": "3d263e46",
   "metadata": {},
   "source": [
    "### Merge & Clean"
   ]
  },
  {
   "cell_type": "code",
   "execution_count": null,
   "id": "fb2a9aa6",
   "metadata": {},
   "outputs": [],
   "source": [
    "df = (\n",
    "    df_genmix\n",
    "    .join(df_prices, how=\"outer\")\n",
    "    .join(df_load, how=\"outer\")\n",
    "    .join(df_tb, how=\"outer\")\n",
    "    .join(df_co2_filled, how=\"outer\")\n",
    "    .join(df_gas_filled, how=\"outer\")\n",
    "    .join(df_coal_filled, how=\"outer\")\n",
    "    .join(df_capacities_filled, how=\"outer\")\n",
    ")\n",
    "\n",
    "df = df.rename(columns={\n",
    "    \"Amount\":\"Trade Balance\",\n",
    "    \"Price EUR/MWh\": \"Natural Gas EUR/MWh\",\n",
    "    \"Price per ton CO2\": \"CO2 EUR/ton\",\n",
    "    \"Price EUR per T\": \"Coal EUR/ton\"\n",
    "})\n",
    "mask_export = (\n",
    "    df[\"Export / Import (Daily)\"]\n",
    "    .astype(\"string\").str.strip().str.lower().eq(\"export\")\n",
    ")\n",
    "df.loc[mask_export, \"Trade Balance\"] *= -1\n",
    "df.drop(columns=[\"Export / Import (Daily)\"], inplace=True, errors=\"ignore\")\n",
    "df.columns = df.columns.str.lower().str.replace(\" \", \"_\").str.replace(\"-\", \"_\")"
   ]
  },
  {
   "cell_type": "markdown",
   "id": "7294ef52",
   "metadata": {},
   "source": [
    "### Checks"
   ]
  },
  {
   "cell_type": "markdown",
   "id": "4bb7f4f4",
   "metadata": {},
   "source": [
    "#### Numeric"
   ]
  },
  {
   "cell_type": "code",
   "execution_count": null,
   "id": "4fa1c8a3",
   "metadata": {},
   "outputs": [],
   "source": [
    "df.tail()"
   ]
  },
  {
   "cell_type": "code",
   "execution_count": null,
   "id": "f726a93d",
   "metadata": {},
   "outputs": [],
   "source": [
    "df.describe().T.astype(int)"
   ]
  },
  {
   "cell_type": "markdown",
   "id": "fd1d285f",
   "metadata": {},
   "source": [
    "#### Histograms"
   ]
  },
  {
   "cell_type": "code",
   "execution_count": null,
   "id": "578f1ff8",
   "metadata": {},
   "outputs": [],
   "source": [
    "num_cols = df.select_dtypes(include=\"number\").columns.tolist()\n",
    "\n",
    "# Group 1: quantities (Generation Mix)\n",
    "gen_order = [\"biomass\",\"brown_coal/lignite\",\"coal_derived_gas\",\"natural_gas\",\"hard_coal\",\n",
    "             \"oil\",\"hydro_pumped_storage\",\"hydro_run_of_river\",\"hydro_water_reservoir\",\n",
    "             \"solar\",\"wind\"]\n",
    "group1 = [c for c in gen_order if c in num_cols]\n",
    "\n",
    "# Group 2: EUR prices\n",
    "group2 = [c for c in [\"day_ahead_price_eur\",\"natural_gas_eur/mwh\",\"co2_eur/ton\",\"coal_eur/ton\"] if c in num_cols]\n",
    "\n",
    "# Group 3: everything else numeric\n",
    "group3 = [c for c in num_cols if c not in set(group1 + group2)]\n",
    "\n",
    "# Plot the groups\n",
    "plot_group(group1, color=\"red\",  title=\"Generation Quantities (Biomass - Wind) — Hist + KDE\")\n",
    "plot_group(group2, color=\"blue\", title=\"EUR Price Variables — Hist + KDE\")\n",
    "plot_group(group3, color=\"black\", title=\"Other Numeric Variables — Hist + KDE\")"
   ]
  },
  {
   "cell_type": "markdown",
   "id": "496d0be8",
   "metadata": {},
   "source": [
    "#### Timeseries"
   ]
  },
  {
   "cell_type": "code",
   "execution_count": null,
   "id": "6e24be54",
   "metadata": {},
   "outputs": [],
   "source": [
    "plot_group_timeseries(df, group1, color=\"red\",  title=\"Generation Quantities — Time Series (daily)\", resample=\"D\")\n",
    "plot_group_timeseries(df, group2, color=\"blue\", title=\"EUR Price Variables — Time Series (daily)\", resample=\"D\")\n",
    "plot_group_timeseries(df, group3, color=\"black\", title=\"Other Numeric Variables — Time Series (daily)\", resample=\"D\")\n"
   ]
  },
  {
   "cell_type": "markdown",
   "id": "0706e2d9",
   "metadata": {},
   "source": [
    "### Save csv"
   ]
  },
  {
   "cell_type": "code",
   "execution_count": null,
   "id": "774007ba",
   "metadata": {},
   "outputs": [],
   "source": [
    "df.to_csv(\"clean_data.csv\", index=False)"
   ]
  },
  {
   "cell_type": "code",
   "execution_count": null,
   "id": "59db1ad3",
   "metadata": {},
   "outputs": [],
   "source": []
  }
 ],
 "metadata": {
  "kernelspec": {
   "display_name": "aoxtrade",
   "language": "python",
   "name": "python3"
  },
  "language_info": {
   "codemirror_mode": {
    "name": "ipython",
    "version": 3
   },
   "file_extension": ".py",
   "mimetype": "text/x-python",
   "name": "python",
   "nbconvert_exporter": "python",
   "pygments_lexer": "ipython3",
   "version": "3.10.14"
  }
 },
 "nbformat": 4,
 "nbformat_minor": 5
}
