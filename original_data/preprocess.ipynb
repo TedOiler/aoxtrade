{
 "cells": [
  {
   "cell_type": "markdown",
   "id": "05e60816",
   "metadata": {},
   "source": [
    "### Imports"
   ]
  },
  {
   "cell_type": "code",
   "execution_count": 41,
   "id": "ae657165",
   "metadata": {},
   "outputs": [],
   "source": [
    "import pandas as pd"
   ]
  },
  {
   "cell_type": "markdown",
   "id": "3d1e35c8",
   "metadata": {},
   "source": [
    "### Helpers"
   ]
  },
  {
   "cell_type": "code",
   "execution_count": 42,
   "id": "bf82c52f",
   "metadata": {},
   "outputs": [],
   "source": [
    "def upsample_to_hourly(df, date_col):\n",
    "    \"\"\"Convert daily/monthly to hourly using forward fill.\"\"\"\n",
    "    return (\n",
    "        df.set_index(date_col)\n",
    "          .resample(\"h\")\n",
    "          .ffill()\n",
    "          .reindex(hourly_index)\n",
    "          .ffill()\n",
    "          .reset_index()\n",
    "          .rename(columns={\"index\": \"Date (UTC)\"})\n",
    "    )"
   ]
  },
  {
   "cell_type": "markdown",
   "id": "5c1eb712",
   "metadata": {},
   "source": [
    "### Read Data"
   ]
  },
  {
   "cell_type": "code",
   "execution_count": 43,
   "id": "6e5b6da8",
   "metadata": {},
   "outputs": [],
   "source": [
    "xls = pd.ExcelFile(\"Case Study Data .xlsx\")\n",
    "df_prices = pd.read_excel(xls, sheet_name=\"Day-ahead Prices\")\n",
    "df_genmix = pd.read_excel(xls, sheet_name=\"Generation Mix\")\n",
    "df_load = pd.read_excel(xls, sheet_name=\"Load\")\n",
    "df_import = pd.read_excel(xls, sheet_name=\"Import_Export\")\n",
    "df_solarwind = pd.read_excel(xls, sheet_name=\"Installed Solar Wind Capacity\")\n",
    "df_natgas = pd.read_excel(xls, sheet_name=\"Natural Gas Prices\")\n",
    "df_co2 = pd.read_excel(xls, sheet_name=\"CO2 Prices\")\n",
    "df_coal = pd.read_excel(xls, sheet_name=\"Coal Prices\")"
   ]
  },
  {
   "cell_type": "markdown",
   "id": "da9b3d7f",
   "metadata": {},
   "source": [
    "### Cleanup Time Formats"
   ]
  },
  {
   "cell_type": "code",
   "execution_count": 44,
   "id": "bf593736",
   "metadata": {},
   "outputs": [],
   "source": [
    "df_prices[\"Date (UTC)\"] = pd.to_datetime(df_prices[\"Date (UTC)\"])\n",
    "df_genmix[\"Date (UTC)\"] = pd.to_datetime(df_genmix[\"Date (UTC)\"])\n",
    "df_load[\"Date (UTC)\"] = pd.to_datetime(df_load[\"Date (UTC)\"])\n",
    "df_import[\"Date (UTC)\"] = pd.to_datetime(df_import[\"Date (UTC)\"])\n",
    "df_solarwind[\"Month\"] = pd.to_datetime(df_solarwind[\"Month\"])\n",
    "df_natgas[\"Date\"] = pd.to_datetime(df_natgas[\"Date\"])\n",
    "df_co2[\"Date\"] = pd.to_datetime(df_co2[\"Date\"], dayfirst=True)\n",
    "df_coal[\"Date\"] = pd.to_datetime(df_coal[\"Date\"])"
   ]
  },
  {
   "cell_type": "code",
   "execution_count": 45,
   "id": "64ee6509",
   "metadata": {},
   "outputs": [],
   "source": [
    "hourly_index = pd.date_range(\n",
    "    start=df_prices[\"Date (UTC)\"].min(),\n",
    "    end=df_prices[\"Date (UTC)\"].max(),\n",
    "    freq=\"h\")\n",
    "\n",
    "df_solarwind_hr = upsample_to_hourly(df_solarwind, \"Month\")\n",
    "df_natgas_hr = upsample_to_hourly(df_natgas, \"Date\")\n",
    "df_co2_hr = upsample_to_hourly(df_co2, \"Date\")\n",
    "df_coal_hr = upsample_to_hourly(df_coal, \"Date\")"
   ]
  },
  {
   "cell_type": "markdown",
   "id": "df1d2b3b",
   "metadata": {},
   "source": [
    "### Merge"
   ]
  },
  {
   "cell_type": "code",
   "execution_count": 46,
   "id": "a89133ff",
   "metadata": {},
   "outputs": [],
   "source": [
    "df_all = df_prices.merge(df_genmix, on=\"Date (UTC)\", how=\"left\")\n",
    "df_all = df_all.merge(df_load, on=\"Date (UTC)\", how=\"left\")\n",
    "df_all = df_all.merge(df_import, on=\"Date (UTC)\", how=\"left\")\n",
    "df_all = df_all.merge(df_solarwind_hr, on=\"Date (UTC)\", how=\"left\")\n",
    "df_all = df_all.merge(df_natgas_hr, on=\"Date (UTC)\", how=\"left\")\n",
    "df_all = df_all.merge(df_co2_hr, on=\"Date (UTC)\", how=\"left\")\n",
    "df_all = df_all.merge(df_coal_hr, on=\"Date (UTC)\", how=\"left\")"
   ]
  },
  {
   "cell_type": "markdown",
   "id": "5f31a2a8",
   "metadata": {},
   "source": [
    "### Clean"
   ]
  },
  {
   "cell_type": "code",
   "execution_count": 47,
   "id": "73a1d8c5",
   "metadata": {},
   "outputs": [
    {
     "name": "stderr",
     "output_type": "stream",
     "text": [
      "/var/folders/8w/zmlxvyj52l7_fdlcpjyc4rd40000gn/T/ipykernel_74272/2364376034.py:12: FutureWarning: A value is trying to be set on a copy of a DataFrame or Series through chained assignment using an inplace method.\n",
      "The behavior will change in pandas 3.0. This inplace method will never work because the intermediate object on which we are setting values always behaves as a copy.\n",
      "\n",
      "For example, when doing 'df[col].method(value, inplace=True)', try using 'df.method({col: value}, inplace=True)' or df[col] = df[col].method(value) instead, to perform the operation inplace on the original object.\n",
      "\n",
      "\n",
      "  df_all[\"CO2 EUR/ton\"].bfill(inplace=True)\n"
     ]
    }
   ],
   "source": [
    "df_all.rename(columns={\"Amount\": \"Export/Import\",\n",
    "\"Price EUR/MWh\": \"Natural Gas EUR/MWh\",\n",
    "\"Price per ton CO2\": \"CO2 EUR/ton\",\n",
    "\"Price EUR per T\": \"Coal EUR/ton\",\n",
    "\"Price PLN/MWh\": \"Electricity PLN/MWh\"}, inplace=True)\n",
    "\n",
    "mask_export = df_all[\"Export / Import (Daily)\"].str.strip().str.lower() == \"export\"\n",
    "df_all.loc[mask_export, \"Export/Import\"] *= -1\n",
    "df_all.drop(columns=[\"Export / Import (Daily)\"], inplace=True)\n",
    "\n",
    "df_all.drop(columns=[\"Electricity PLN/MWh\"], inplace=True)\n",
    "df_all[\"CO2 EUR/ton\"].bfill(inplace=True)"
   ]
  },
  {
   "cell_type": "markdown",
   "id": "2f7d8dcc",
   "metadata": {},
   "source": [
    "### Check Before Saving"
   ]
  },
  {
   "cell_type": "code",
   "execution_count": 50,
   "id": "68295651",
   "metadata": {},
   "outputs": [
    {
     "name": "stdout",
     "output_type": "stream",
     "text": [
      "                            count                           mean  \\\n",
      "Date (UTC)                  21456  2023-03-23 23:29:59.997779712   \n",
      "Day-ahead Price EUR       21456.0                     129.036827   \n",
      "Biomass                   21456.0                     209.987463   \n",
      "Brown Coal/Lignite        21456.0                     4118.43997   \n",
      "Coal-derived Gas          21456.0                      58.182933   \n",
      "Natural Gas               21456.0                    1288.008296   \n",
      "Hard Coal                 21456.0                     7827.04409   \n",
      "Oil                       21456.0                     280.803971   \n",
      "Hydro Pumped Storage      21456.0                     169.838367   \n",
      "Hydro Run of River        21456.0                     200.850298   \n",
      "Hydro Water Reservoir     21456.0                      14.600671   \n",
      "Solar                     21456.0                    1390.655108   \n",
      "Wind                      21456.0                    2449.609293   \n",
      "Day-ahead Load Forecast   21456.0                   19773.426035   \n",
      "Export/Import             21456.0                     171.545414   \n",
      "Installed Solar Capacity   2387.0                    8764.845832   \n",
      "Installed Wind             2387.0                         6570.0   \n",
      "Natural Gas EUR/MWh        2387.0                     105.739443   \n",
      "CO2 EUR/ton                2387.0                      82.132514   \n",
      "Coal EUR/ton               2387.0                      64.338896   \n",
      "\n",
      "                                          min                            25%  \\\n",
      "Date (UTC)                2022-01-01 00:00:00  2022-08-12 11:44:59.999000064   \n",
      "Day-ahead Price EUR                    -46.24                         91.295   \n",
      "Biomass                                   0.0                          185.0   \n",
      "Brown Coal/Lignite                     1100.0                         3273.0   \n",
      "Coal-derived Gas                          9.0                           49.0   \n",
      "Natural Gas                              61.0                         902.75   \n",
      "Hard Coal                              3584.0                         6458.0   \n",
      "Oil                                     155.0                          240.0   \n",
      "Hydro Pumped Storage                      0.0                            0.0   \n",
      "Hydro Run of River                       67.0                          134.0   \n",
      "Hydro Water Reservoir                     0.0                            0.0   \n",
      "Solar                                     0.0                            0.0   \n",
      "Wind                                     15.0                          881.0   \n",
      "Day-ahead Load Forecast               11525.0                       17003.75   \n",
      "Export/Import                         -5326.3                         -109.0   \n",
      "Installed Solar Capacity               8161.0                         8161.0   \n",
      "Installed Wind                         6570.0                         6570.0   \n",
      "Natural Gas EUR/MWh                   69.2472                        81.3494   \n",
      "CO2 EUR/ton                             57.91                           78.5   \n",
      "Coal EUR/ton                          63.8418                        63.8418   \n",
      "\n",
      "                                                    50%  \\\n",
      "Date (UTC)                2023-03-23 23:29:59.998000128   \n",
      "Day-ahead Price EUR                              115.66   \n",
      "Biomass                                           238.0   \n",
      "Brown Coal/Lignite                               4282.0   \n",
      "Coal-derived Gas                                   58.0   \n",
      "Natural Gas                                      1257.0   \n",
      "Hard Coal                                        7567.0   \n",
      "Oil                                               276.0   \n",
      "Hydro Pumped Storage                               13.5   \n",
      "Hydro Run of River                                194.5   \n",
      "Hydro Water Reservoir                               0.0   \n",
      "Solar                                             102.0   \n",
      "Wind                                             1875.0   \n",
      "Day-ahead Load Forecast                         20000.0   \n",
      "Export/Import                                       0.0   \n",
      "Installed Solar Capacity                         8521.0   \n",
      "Installed Wind                                   6570.0   \n",
      "Natural Gas EUR/MWh                              95.414   \n",
      "CO2 EUR/ton                                        81.9   \n",
      "Coal EUR/ton                                    63.9408   \n",
      "\n",
      "                                                    75%  \\\n",
      "Date (UTC)                2023-11-02 11:14:59.996999936   \n",
      "Day-ahead Price EUR                             152.075   \n",
      "Biomass                                           264.0   \n",
      "Brown Coal/Lignite                               5016.0   \n",
      "Coal-derived Gas                                   66.0   \n",
      "Natural Gas                                      1634.0   \n",
      "Hard Coal                                        8999.0   \n",
      "Oil                                               316.0   \n",
      "Hydro Pumped Storage                              248.0   \n",
      "Hydro Run of River                                266.0   \n",
      "Hydro Water Reservoir                              39.0   \n",
      "Solar                                            2166.0   \n",
      "Wind                                             3598.0   \n",
      "Day-ahead Load Forecast                         22277.0   \n",
      "Export/Import                                     575.0   \n",
      "Installed Solar Capacity                         9213.0   \n",
      "Installed Wind                                   6570.0   \n",
      "Natural Gas EUR/MWh                            115.8762   \n",
      "CO2 EUR/ton                                       87.99   \n",
      "Coal EUR/ton                                     64.702   \n",
      "\n",
      "                                                 max          std  \n",
      "Date (UTC)                2024-06-12 22:59:59.996000          NaN  \n",
      "Day-ahead Price EUR                            771.0    66.147042  \n",
      "Biomass                                        308.0    76.352991  \n",
      "Brown Coal/Lignite                            7117.0  1186.664701  \n",
      "Coal-derived Gas                                98.0    14.102483  \n",
      "Natural Gas                                   2798.0   505.004094  \n",
      "Hard Coal                                    15381.0  1921.405627  \n",
      "Oil                                            437.0    57.950295  \n",
      "Hydro Pumped Storage                          1609.0   274.760168  \n",
      "Hydro Run of River                             373.0    74.083964  \n",
      "Hydro Water Reservoir                           58.0    20.474892  \n",
      "Solar                                        11195.0  2163.185201  \n",
      "Wind                                          8493.0  1960.816948  \n",
      "Day-ahead Load Forecast                      27503.0  3319.959138  \n",
      "Export/Import                                 4938.2  1024.188914  \n",
      "Installed Solar Capacity                      9997.0   580.956903  \n",
      "Installed Wind                                6570.0          0.0  \n",
      "Natural Gas EUR/MWh                         297.0308    37.339218  \n",
      "CO2 EUR/ton                                    97.51     7.461631  \n",
      "Coal EUR/ton                                  66.198      0.70173  \n"
     ]
    }
   ],
   "source": [
    "print(df_all.describe().T.round(1))"
   ]
  },
  {
   "cell_type": "markdown",
   "id": "cf686457",
   "metadata": {},
   "source": [
    "### Save"
   ]
  },
  {
   "cell_type": "code",
   "execution_count": 24,
   "id": "b05a1c2a",
   "metadata": {},
   "outputs": [],
   "source": [
    "df_all.to_csv(\"clean_data.csv\", index=False)"
   ]
  },
  {
   "cell_type": "markdown",
   "id": "56ffe9b0",
   "metadata": {},
   "source": []
  },
  {
   "cell_type": "markdown",
   "id": "069ec021",
   "metadata": {},
   "source": []
  }
 ],
 "metadata": {
  "kernelspec": {
   "display_name": "Python 3",
   "language": "python",
   "name": "python3"
  },
  "language_info": {
   "codemirror_mode": {
    "name": "ipython",
    "version": 3
   },
   "file_extension": ".py",
   "mimetype": "text/x-python",
   "name": "python",
   "nbconvert_exporter": "python",
   "pygments_lexer": "ipython3",
   "version": "3.9.6"
  }
 },
 "nbformat": 4,
 "nbformat_minor": 5
}
